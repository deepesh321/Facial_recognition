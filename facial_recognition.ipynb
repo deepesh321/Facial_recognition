{
  "nbformat": 4,
  "nbformat_minor": 0,
  "metadata": {
    "kernelspec": {
      "name": "python3",
      "display_name": "Python 3"
    },
    "language_info": {
      "codemirror_mode": {
        "name": "ipython",
        "version": 3
      },
      "file_extension": ".py",
      "mimetype": "text/x-python",
      "name": "python",
      "nbconvert_exporter": "python",
      "pygments_lexer": "ipython3",
      "version": "3.7.3"
    },
    "colab": {
      "name": "facial_recognition.ipynb",
      "provenance": [],
      "machine_shape": "hm",
      "include_colab_link": true
    },
    "accelerator": "TPU"
  },
  "cells": [
    {
      "cell_type": "markdown",
      "metadata": {
        "id": "view-in-github",
        "colab_type": "text"
      },
      "source": [
        "<a href=\"https://colab.research.google.com/github/deepesh321/Facial_recognition/blob/master/facial_recognition.ipynb\" target=\"_parent\"><img src=\"https://colab.research.google.com/assets/colab-badge.svg\" alt=\"Open In Colab\"/></a>"
      ]
    },
    {
      "cell_type": "code",
      "metadata": {
        "id": "rbtGVnZpuLcx",
        "colab_type": "code",
        "colab": {
          "base_uri": "https://localhost:8080/",
          "height": 34
        },
        "outputId": "2ed4397f-18a4-49fa-9512-32b607c9b792"
      },
      "source": [
        "import re\n",
        "import numpy as np\n",
        "from PIL import Image\n",
        "import tensorflow as tf\n",
        "from sklearn.model_selection import train_test_split\n",
        "from tensorflow.keras import backend as K\n",
        "from tensorflow.keras.layers import Activation\n",
        "from tensorflow.keras.layers import Input, Lambda, Dense, Dropout, Convolution2D, MaxPooling2D, Flatten,BatchNormalization\n",
        "from tensorflow.keras.models import Sequential, Model\n",
        "from tensorflow.keras.optimizers import RMSprop\n",
        "from tensorflow.keras.preprocessing import image\n",
        "from tensorflow.keras.applications import VGG16\n",
        "from tensorflow.keras.activations import relu,tanh\n",
        "\n",
        "%tensorflow_version 1.x"
      ],
      "execution_count": 1,
      "outputs": [
        {
          "output_type": "stream",
          "text": [
            "TensorFlow is already loaded. Please restart the runtime to change versions.\n"
          ],
          "name": "stdout"
        }
      ]
    },
    {
      "cell_type": "code",
      "metadata": {
        "id": "h2puzlf4uUOr",
        "colab_type": "code",
        "outputId": "f9cb6dcd-dc5a-4839-fc3b-899c36062199",
        "colab": {
          "base_uri": "https://localhost:8080/",
          "height": 122
        }
      },
      "source": [
        "from google.colab import drive\n",
        "drive.mount('/content/drive')"
      ],
      "execution_count": 2,
      "outputs": [
        {
          "output_type": "stream",
          "text": [
            "Go to this URL in a browser: https://accounts.google.com/o/oauth2/auth?client_id=947318989803-6bn6qk8qdgf4n4g3pfee6491hc0brc4i.apps.googleusercontent.com&redirect_uri=urn%3aietf%3awg%3aoauth%3a2.0%3aoob&response_type=code&scope=email%20https%3a%2f%2fwww.googleapis.com%2fauth%2fdocs.test%20https%3a%2f%2fwww.googleapis.com%2fauth%2fdrive%20https%3a%2f%2fwww.googleapis.com%2fauth%2fdrive.photos.readonly%20https%3a%2f%2fwww.googleapis.com%2fauth%2fpeopleapi.readonly\n",
            "\n",
            "Enter your authorization code:\n",
            "··········\n",
            "Mounted at /content/drive\n"
          ],
          "name": "stdout"
        }
      ]
    },
    {
      "cell_type": "code",
      "metadata": {
        "id": "LBrWD05auLc7",
        "colab_type": "code",
        "colab": {}
      },
      "source": [
        "anchor=[]\n",
        "pos_neg=[]\n",
        "y_values=[0]*452\n",
        "count=0\n",
        "BASE_DIR = '/content/drive/My Drive/facial_recog'\n",
        "for a in range(2):\n",
        "  for i in range(113):\n",
        "      #for i in range(int(565/113)):\n",
        "      ind1=0\n",
        "      ind2=0\n",
        "      while ind1==ind2:\n",
        "          ind1 = np.random.randint(10)\n",
        "          ind2 = np.random.randint(10)\n",
        "      img1 = image.load_img(BASE_DIR + '/male/' + 's'+ str(i) + '/' + str(ind1 + 1) + '.jpg',target_size=(224,224))\n",
        "      img2 = image.load_img(BASE_DIR+'/male/' +'s'+ str(i) + '/' + str(ind2 + 1) + '.jpg',target_size=(224,224))\n",
        "      img1 = image.img_to_array(img1)\n",
        "      img2 = image.img_to_array(img2)\n",
        "      img1 = np.expand_dims(img1, axis=0)\n",
        "      img2 = np.expand_dims(img2, axis=0)\n",
        "      anchor.append(img1)\n",
        "      pos_neg.append(img2)\n",
        "      y_values[count]=1\n",
        "      count=count+1\n",
        "\n",
        "  for i in range(113):\n",
        "      ind1=0\n",
        "      while ind1==i:\n",
        "          ind1 = np.random.randint(113)\n",
        "      a=np.random.randint(20)\n",
        "      img1 = image.load_img(BASE_DIR + '/male/' + 's'+ str(i) + '/' + str(a + 1) + '.jpg',target_size=(224,224))\n",
        "      img2 = image.load_img(BASE_DIR+'/male/' +'s' + str(ind1) + '/' + str(a + 1) + '.jpg',target_size=(224,224))\n",
        "      img1 = image.img_to_array(img1)\n",
        "      img2 = image.img_to_array(img2)\n",
        "      img1 = np.expand_dims(img1, axis=0)\n",
        "      img2 = np.expand_dims(img2, axis=0)\n",
        "      anchor.append(img1)\n",
        "      pos_neg.append(img2)\n",
        "      y_values[count]=0\n",
        "      count=count+1"
      ],
      "execution_count": 0,
      "outputs": []
    },
    {
      "cell_type": "code",
      "metadata": {
        "id": "WfcGOVofuLdB",
        "colab_type": "code",
        "outputId": "426a027f-5d17-4b95-e71e-1a7efbfa99c0",
        "colab": {
          "base_uri": "https://localhost:8080/",
          "height": 34
        }
      },
      "source": [
        "anchor=np.array(anchor)\n",
        "pos_neg=np.array(pos_neg)\n",
        "anchor = np.rollaxis(anchor, 1, 0)\n",
        "anchor = anchor[0]\n",
        "pos_neg= np.rollaxis(pos_neg, 1, 0)\n",
        "pos_neg = pos_neg[0]\n",
        "y_values=np.array(y_values)\n",
        "y_values=y_values.reshape(y_values.shape[0],1)\n",
        "print(anchor.shape,pos_neg.shape,y_values.shape)"
      ],
      "execution_count": 30,
      "outputs": [
        {
          "output_type": "stream",
          "text": [
            "(452, 224, 224, 3) (452, 224, 224, 3) (452, 1)\n"
          ],
          "name": "stdout"
        }
      ]
    },
    {
      "cell_type": "code",
      "metadata": {
        "id": "rCKCWIiguLdJ",
        "colab_type": "code",
        "colab": {}
      },
      "source": [
        "def build_model():\n",
        "    #input_image=Input(shape=(224,224,3))\n",
        "    model=Sequential()\n",
        "    model.add(VGG16(weights='imagenet',include_top=True,input_shape=(224,224,3)))\n",
        "    model.layers[-1].activation = relu\n",
        "    model.add(Dropout(0.25))\n",
        "    model.add(Dense(128))\n",
        "    #out = Dense(128)(model.layers[-1].output)\n",
        "    return model"
      ],
      "execution_count": 0,
      "outputs": []
    },
    {
      "cell_type": "code",
      "metadata": {
        "id": "l2PSMstNuLdP",
        "colab_type": "code",
        "colab": {}
      },
      "source": [
        "def triplet_loss(vects):\n",
        "    anchor,positive=vects\n",
        "    print(anchor.shape,positive.shape)\n",
        "    loss = tf.reduce_sum((anchor - positive)**2, axis=-1)\n",
        "    print(loss)\n",
        "    print(loss.shape)    \n",
        "    return loss\n",
        "\n",
        "def euclidean_distance(vects):\n",
        "    x, y = vects\n",
        "    return K.sqrt(K.sum(K.square(x - y), axis=1, keepdims=True))\n",
        "\n",
        "def eucl_dist_output_shape(shapes):\n",
        "    shape1, shape2 = shapes\n",
        "    return (shape1[0], 1)"
      ],
      "execution_count": 0,
      "outputs": []
    },
    {
      "cell_type": "code",
      "metadata": {
        "id": "k9lHc1GMYfAx",
        "colab_type": "code",
        "colab": {}
      },
      "source": [
        "def contrastive_loss(y_true, y_pred):\n",
        "    margin = 1\n",
        "    return K.mean(y_true * K.square(y_pred) + (1 - y_true) * K.square(K.maximum(margin - y_pred, 0)))"
      ],
      "execution_count": 0,
      "outputs": []
    },
    {
      "cell_type": "code",
      "metadata": {
        "id": "jxWumBlbuLdU",
        "colab_type": "code",
        "colab": {}
      },
      "source": [
        "image_shape=(224,224,3)\n",
        "def get_model():\n",
        "    anchor_input=Input(shape=image_shape)\n",
        "    pos_neg_input=Input(shape=image_shape)\n",
        "    my_model=build_model()\n",
        "\n",
        "    pos_neg_encoding=my_model(pos_neg_input)\n",
        "    anchor_encoding=my_model(anchor_input)\n",
        "    distance = Lambda(euclidean_distance, output_shape=eucl_dist_output_shape)([anchor_encoding,pos_neg_encoding])\n",
        "    # distance=Activation('sigmoid')\n",
        "    return Model(inputs=[anchor_input,pos_neg_input],outputs=distance)"
      ],
      "execution_count": 0,
      "outputs": []
    },
    {
      "cell_type": "code",
      "metadata": {
        "id": "BJ2EvUpSuLda",
        "colab_type": "code",
        "outputId": "24e08c09-3d5e-46b5-ace7-fbfd3ac697d5",
        "colab": {
          "base_uri": "https://localhost:8080/",
          "height": 323
        }
      },
      "source": [
        "fr_model=get_model()\n",
        "fr_model.compile(loss='binary_crossentropy', optimizer='adam', metrics=['accuracy'])\n",
        "fr_model.summary()"
      ],
      "execution_count": 35,
      "outputs": [
        {
          "output_type": "stream",
          "text": [
            "Model: \"model_3\"\n",
            "__________________________________________________________________________________________________\n",
            "Layer (type)                    Output Shape         Param #     Connected to                     \n",
            "==================================================================================================\n",
            "input_12 (InputLayer)           [(None, 224, 224, 3) 0                                            \n",
            "__________________________________________________________________________________________________\n",
            "input_13 (InputLayer)           [(None, 224, 224, 3) 0                                            \n",
            "__________________________________________________________________________________________________\n",
            "sequential_4 (Sequential)       (None, 128)          138485672   input_13[0][0]                   \n",
            "                                                                 input_12[0][0]                   \n",
            "__________________________________________________________________________________________________\n",
            "lambda_3 (Lambda)               (None, 1)            0           sequential_4[2][0]               \n",
            "                                                                 sequential_4[1][0]               \n",
            "==================================================================================================\n",
            "Total params: 138,485,672\n",
            "Trainable params: 138,485,672\n",
            "Non-trainable params: 0\n",
            "__________________________________________________________________________________________________\n"
          ],
          "name": "stdout"
        }
      ]
    },
    {
      "cell_type": "code",
      "metadata": {
        "id": "zOdYg4-guLdf",
        "colab_type": "code",
        "colab": {}
      },
      "source": [
        "fr_model.fit([anchor/255.0,pos_neg/255.0],y_values,batch_size=32,epochs=10)"
      ],
      "execution_count": 0,
      "outputs": []
    }
  ]
}